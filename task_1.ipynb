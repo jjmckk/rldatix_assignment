{
 "cells": [
  {
   "cell_type": "markdown",
   "id": "2e51c082-4598-4c7f-93cb-c5a2759f71e9",
   "metadata": {},
   "source": [
    "# Data Science & LLM Technical Assessment Part 1"
   ]
  },
  {
   "cell_type": "markdown",
   "id": "e7883b37-cab8-42ab-befd-b4a3a0c73e24",
   "metadata": {},
   "source": [
    "## Load dataframe and view shape, data types and missing values"
   ]
  },
  {
   "cell_type": "code",
   "execution_count": null,
   "id": "c9544e21-22bb-4700-8474-d442466cb240",
   "metadata": {},
   "outputs": [],
   "source": [
    "import pandas as pd\n",
    "path = './data.csv'\n",
    "df = pd.read_csv(path)\n",
    "\n",
    "#print dataframe shape\n",
    "print(\"Dataframe shape:\", df.shape)\n",
    "\n",
    "#show dataframe\n",
    "df.head(2)"
   ]
  },
  {
   "cell_type": "code",
   "execution_count": null,
   "id": "e9240ae2-267e-4a2e-b358-4b7a058f5026",
   "metadata": {},
   "outputs": [],
   "source": [
    "#show data types in dataframe\n",
    "df.dtypes"
   ]
  },
  {
   "cell_type": "code",
   "execution_count": null,
   "id": "f21794e5-b49f-4447-9194-18eb4f0a818f",
   "metadata": {},
   "outputs": [],
   "source": [
    "#show missing values\n",
    "df.isna().sum()"
   ]
  },
  {
   "cell_type": "markdown",
   "id": "36394446-1b2a-49c0-90cd-a922035aed4b",
   "metadata": {},
   "source": [
    "## Produce ydata profile report"
   ]
  },
  {
   "cell_type": "code",
   "execution_count": null,
   "id": "49c443a6-918c-4a18-a536-4ab7778eb96f",
   "metadata": {},
   "outputs": [],
   "source": [
    "# #load profile report\n",
    "# from ydata_profiling import ProfileReport\n",
    "\n",
    "# #create profile report\n",
    "# profile = ProfileReport(df, title=\"Profiling Report\")\n",
    "\n",
    "# #save to local filepath\n",
    "# path = './ydata_report.html'\n",
    "# profile.to_file(path)"
   ]
  },
  {
   "cell_type": "markdown",
   "id": "806ec39a-9d30-49d3-8264-eac79ffdb41e",
   "metadata": {},
   "source": [
    "## Feature distributions"
   ]
  },
  {
   "cell_type": "markdown",
   "id": "0ece7e87-a245-476f-bb08-b6a48621dc32",
   "metadata": {},
   "source": [
    "### readmitted_30_days (outcome variable)"
   ]
  },
  {
   "cell_type": "code",
   "execution_count": null,
   "id": "8afb6a04-08ce-45cc-b83c-76882035e243",
   "metadata": {},
   "outputs": [],
   "source": [
    "import plotly.express as px\n",
    "\n",
    "#create value count DataFrame\n",
    "tmp_df = df['readmitted_30_days'].value_counts().reset_index()\n",
    "tmp_df.columns = ['readmission_status', 'count']\n",
    "\n",
    "#create h-barplot\n",
    "fig = px.bar(\n",
    "    tmp_df,\n",
    "    x='count',\n",
    "    y='readmission_status',\n",
    "    orientation='h',\n",
    "    text='count',\n",
    "    title='Readmission Within 30 Days'\n",
    ")\n",
    "\n",
    "#format\n",
    "fig.update_layout(\n",
    "    xaxis_title='Number of Patients',\n",
    "    yaxis_title='Readmission Status',\n",
    "    yaxis=dict(type='category'),  # ensures discrete axis\n",
    "    showlegend=False,\n",
    "    template='plotly_white',\n",
    "    bargap=0.3\n",
    ")\n",
    "\n",
    "#update formatting\n",
    "fig.update_traces(textposition='outside')\n",
    "\n",
    "#show plot\n",
    "fig.show()"
   ]
  },
  {
   "cell_type": "markdown",
   "id": "246c178e-fc25-4af8-8991-360e95508451",
   "metadata": {},
   "source": [
    "- 2:1 non-readmitted to readmitted\n",
    "- moderately imbalanced across outcome variable\n",
    "- explore synthetic upsampling to improve peformance (low priority)"
   ]
  },
  {
   "cell_type": "markdown",
   "id": "278fa5f7-342b-47df-8069-ad4a13fb0758",
   "metadata": {},
   "source": [
    "### patient_id"
   ]
  },
  {
   "cell_type": "code",
   "execution_count": null,
   "id": "bc0e2c3a-9e77-427f-a0ad-7afbb1131383",
   "metadata": {},
   "outputs": [],
   "source": [
    "#check patient id is unique\n",
    "assert len(df.patient_id.unique()) == df.shape[0], \"patient_id is not unique check variable!\""
   ]
  },
  {
   "cell_type": "markdown",
   "id": "ae88878d-66b8-48b4-b091-f18dcc7db784",
   "metadata": {},
   "source": [
    "- patient_id is unique"
   ]
  },
  {
   "cell_type": "markdown",
   "id": "e1cd4d53-a002-48fb-a489-bf98b2e813b1",
   "metadata": {},
   "source": [
    "### gender "
   ]
  },
  {
   "cell_type": "code",
   "execution_count": null,
   "id": "fa67815a-e5c5-460b-a53e-c21ffe3ea562",
   "metadata": {},
   "outputs": [],
   "source": [
    "#create value count DataFrame\n",
    "tmp_df = df['gender'].value_counts().reset_index()\n",
    "tmp_df.columns = ['gender', 'count']\n",
    "\n",
    "#create h-barplot\n",
    "fig = px.bar(\n",
    "    tmp_df,\n",
    "    x='count',\n",
    "    y='gender',\n",
    "    orientation='h',\n",
    "    text='count',\n",
    "    title='Gender'\n",
    ")\n",
    "\n",
    "#format\n",
    "fig.update_layout(\n",
    "    xaxis_title='Number of Patients',\n",
    "    yaxis_title='Gender',\n",
    "    yaxis=dict(type='category'),  # ensures discrete axis\n",
    "    showlegend=False,\n",
    "    template='plotly_white',\n",
    "    bargap=0.3\n",
    ")\n",
    "\n",
    "#update formatting\n",
    "fig.update_traces(textposition='outside')\n",
    "\n",
    "#show plot\n",
    "fig.show()"
   ]
  },
  {
   "cell_type": "markdown",
   "id": "acb3fe17-d853-44b0-9a00-a5575f3c7065",
   "metadata": {},
   "source": [
    "- well-balanced feature, no underepresented group"
   ]
  },
  {
   "cell_type": "markdown",
   "id": "e7cfe04c-61de-4ed6-a4c9-3626b8b54087",
   "metadata": {},
   "source": [
    "### diagnosis_code"
   ]
  },
  {
   "cell_type": "code",
   "execution_count": null,
   "id": "8f627a77-e374-45ca-95c2-b09865ddb4bb",
   "metadata": {},
   "outputs": [],
   "source": [
    "#create value count DataFrame\n",
    "tmp_df = df['diagnosis_code'].value_counts().reset_index()\n",
    "tmp_df.columns = ['diagnosis_code', 'count']\n",
    "\n",
    "#create h-barplot\n",
    "fig = px.bar(\n",
    "    tmp_df,\n",
    "    x='count',\n",
    "    y='diagnosis_code',\n",
    "    orientation='h',\n",
    "    text='count',\n",
    "    title='Diagnosis Code'\n",
    ")\n",
    "\n",
    "#format\n",
    "fig.update_layout(\n",
    "    xaxis_title='Number of Patients',\n",
    "    yaxis_title='Diagnosis Code',\n",
    "    yaxis=dict(type='category'),  # ensures discrete axis\n",
    "    showlegend=False,\n",
    "    template='plotly_white',\n",
    "    bargap=0.3\n",
    ")\n",
    "\n",
    "#update formatting\n",
    "fig.update_traces(textposition='outside')\n",
    "\n",
    "#show plot\n",
    "fig.show()"
   ]
  },
  {
   "cell_type": "markdown",
   "id": "f48012d7-92b6-4933-a48a-5fe0cff2284e",
   "metadata": {},
   "source": [
    "- 4 unique values\n",
    "- balanced disbution across D001, D002 and D004\n",
    "- DOO3 moderately underepresented compared to mean"
   ]
  },
  {
   "cell_type": "markdown",
   "id": "243a5a75-fc3c-4d76-986f-0fa7383aaeec",
   "metadata": {},
   "source": [
    "### num_previous_admissions"
   ]
  },
  {
   "cell_type": "code",
   "execution_count": null,
   "id": "d5211391-e653-45f3-bf3a-dd21cd1cfdf6",
   "metadata": {},
   "outputs": [],
   "source": [
    "#create boxplot\n",
    "fig = px.box(\n",
    "    df,\n",
    "    y='num_previous_admissions',\n",
    "    points='all',  # Show individual data points\n",
    "    title='Distribution of Previous Admissions',\n",
    "    boxmode='overlay'\n",
    ")\n",
    "\n",
    "#specify height\n",
    "height, width = 600, 600\n",
    "\n",
    "#formatting\n",
    "fig.update_layout(\n",
    "    yaxis_title='Number of Previous Admissions',\n",
    "    template='plotly_white',\n",
    "    showlegend=False,\n",
    "    height=height,\n",
    "    width=width\n",
    ")\n",
    "\n",
    "#show plot\n",
    "fig.show()"
   ]
  },
  {
   "cell_type": "markdown",
   "id": "d8877beb-8fec-4e1e-9bc3-d26f76ad82b7",
   "metadata": {},
   "source": [
    "- 6 unique values\n",
    "- median value of 1 previous admission\n",
    "- RHS skew to distribution, both Q1 and Q2 are 1, Q3 is 3"
   ]
  },
  {
   "cell_type": "markdown",
   "id": "dece9b80-f283-4206-a602-fd10db743b21",
   "metadata": {},
   "source": [
    "### medication_type"
   ]
  },
  {
   "cell_type": "code",
   "execution_count": null,
   "id": "110b6a57-b9b0-4772-9c07-709f7ef2e889",
   "metadata": {},
   "outputs": [],
   "source": [
    "#create value count DataFrame\n",
    "tmp_df = df['medication_type'].value_counts().reset_index()\n",
    "tmp_df.columns = ['medication_type', 'count']\n",
    "\n",
    "#create h-barplot\n",
    "fig = px.bar(\n",
    "    tmp_df,\n",
    "    x='count',\n",
    "    y='medication_type',\n",
    "    orientation='h',\n",
    "    text='count',\n",
    "    title='Medication Type'\n",
    ")\n",
    "\n",
    "#format\n",
    "fig.update_layout(\n",
    "    xaxis_title='Number of Patients',\n",
    "    yaxis_title='Medication Type',\n",
    "    yaxis=dict(type='category'),  # ensures discrete axis\n",
    "    showlegend=False,\n",
    "    template='plotly_white',\n",
    "    bargap=0.3\n",
    ")\n",
    "\n",
    "#update formatting\n",
    "fig.update_traces(textposition='outside')\n",
    "\n",
    "#show plot\n",
    "fig.show()"
   ]
  },
  {
   "cell_type": "markdown",
   "id": "b5c15831-b6b7-4895-9171-e9d4484bd54d",
   "metadata": {},
   "source": [
    "- 3 unique medication types\n",
    "- well balanced representation across each unique medication type"
   ]
  },
  {
   "cell_type": "markdown",
   "id": "5c10a877-cb18-48b0-a9df-0150a3aa3214",
   "metadata": {},
   "source": [
    "### length_of_stay"
   ]
  },
  {
   "cell_type": "code",
   "execution_count": null,
   "id": "f8425b18-eb04-4939-9244-dbccedce90f2",
   "metadata": {},
   "outputs": [],
   "source": [
    "#create boxplot\n",
    "fig = px.box(\n",
    "    df,\n",
    "    y='length_of_stay',\n",
    "    points='all',  # Show individual data points\n",
    "    title='Distribution of Previous Admissions',\n",
    "    boxmode='overlay'\n",
    ")\n",
    "\n",
    "#specify height\n",
    "height, width = 600, 600\n",
    "\n",
    "#formatting\n",
    "fig.update_layout(\n",
    "    yaxis_title='Length of Stay',\n",
    "    template='plotly_white',\n",
    "    showlegend=False,\n",
    "    height=height,\n",
    "    width=width\n",
    ")\n",
    "\n",
    "#show plot\n",
    "fig.show()"
   ]
  },
  {
   "cell_type": "code",
   "execution_count": null,
   "id": "b1c6ca82-bc74-4ef9-81ea-f69215658934",
   "metadata": {},
   "outputs": [],
   "source": [
    "#create histogram\n",
    "fig = px.histogram(\n",
    "    df,\n",
    "    x='length_of_stay',\n",
    "    title='Length of Stay',\n",
    "    nbins=14 #ostensibly a barplot as nbins == length_of_stay.unique\n",
    "    )\n",
    "\n",
    "#specify height\n",
    "height, width = 600, 900\n",
    "\n",
    "#formatting\n",
    "fig.update_layout(\n",
    "    xaxis_title='Length of Stay',\n",
    "    yaxis_title='Number of Patients',\n",
    "    template='plotly_white',\n",
    "    showlegend=False,\n",
    "    height=height,\n",
    "    width=width\n",
    ")\n",
    "\n",
    "#show plot\n",
    "fig.show()"
   ]
  },
  {
   "cell_type": "markdown",
   "id": "bdf96340-5e05-404d-a418-0acb7f9f313d",
   "metadata": {},
   "source": [
    "- 14 unique values\n",
    "- median stay of 8 days\n",
    "- multimodal distribution with small peaks at 2, 7-8 and 11\n",
    "- number of datapoints per unique value is small"
   ]
  },
  {
   "cell_type": "markdown",
   "id": "217c8b9e-4070-4888-8e15-3ecdf1fbf254",
   "metadata": {},
   "source": [
    "### age"
   ]
  },
  {
   "cell_type": "code",
   "execution_count": null,
   "id": "105c5f46-1dd3-48e4-b072-884725e0d926",
   "metadata": {},
   "outputs": [],
   "source": [
    "#create histogram\n",
    "fig = px.histogram(\n",
    "    df,\n",
    "    x='age',\n",
    "    title='Age',\n",
    "    nbins=20 #ostensibly a barplot as nbins == length_of_stay.unique\n",
    "    )\n",
    "\n",
    "#specify height\n",
    "height, width = 600, 900\n",
    "\n",
    "#formatting\n",
    "fig.update_layout(\n",
    "    xaxis_title='Age',\n",
    "    yaxis_title='Number of Patients',\n",
    "    template='plotly_white',\n",
    "    showlegend=False,\n",
    "    height=height,\n",
    "    width=width\n",
    ")\n",
    "\n",
    "#show plot\n",
    "fig.show()"
   ]
  },
  {
   "cell_type": "markdown",
   "id": "b231a905-df99-4649-a750-c4e74063abbf",
   "metadata": {},
   "source": [
    "- ages of patients in the sample population varied between 20 - 89\n",
    "- median age of 54 years old\n",
    "- multimodal distribution with a large peak between 20 - 24 years and mild peak between 70 - 84 years"
   ]
  },
  {
   "cell_type": "markdown",
   "id": "476bf05f-4a3a-41d3-8330-ef07b4221f93",
   "metadata": {},
   "source": [
    "## Joint feature distributions across outcome variable (Readmission)"
   ]
  },
  {
   "cell_type": "markdown",
   "id": "3c02b787-0969-4722-ab79-11019a55ce8c",
   "metadata": {},
   "source": [
    "### gender"
   ]
  },
  {
   "cell_type": "markdown",
   "id": "c557660e-45fb-4b10-84f4-3dde7d4b6dc9",
   "metadata": {},
   "source": [
    "#### Count plot"
   ]
  },
  {
   "cell_type": "code",
   "execution_count": null,
   "id": "4aacdddf-9adc-41aa-b24b-94472c011778",
   "metadata": {},
   "outputs": [],
   "source": [
    "#declare variables\n",
    "dependent_var = 'readmitted_30_days'\n",
    "independent_var = 'gender'\n",
    "\n",
    "#create grouped count DataFrame\n",
    "grouped_df = df.groupby([independent_var, dependent_var]).size().reset_index(name='count')\n",
    "\n",
    "fig = px.bar(grouped_df, \n",
    "             x=dependent_var,\n",
    "             y='count',\n",
    "             color=independent_var, \n",
    "             barmode='group',\n",
    "             title='Readmission vs Gender')\n",
    "\n",
    "#specify height\n",
    "height, width = 600, 900\n",
    "\n",
    "#update formatting\n",
    "fig.update_layout(\n",
    "    xaxis_title='Readmission within 30 Days',\n",
    "    yaxis_title='Number of Patients',\n",
    "    template='plotly_white',\n",
    "    showlegend=True,\n",
    "    height=height,\n",
    "    width=width\n",
    ")\n",
    "\n",
    "#show fig\n",
    "fig.show()"
   ]
  },
  {
   "cell_type": "markdown",
   "id": "7c3c8e91-0058-414b-bc1d-4c5bbb597c93",
   "metadata": {},
   "source": [
    "#### Proportion plot"
   ]
  },
  {
   "cell_type": "code",
   "execution_count": null,
   "id": "504b37d8-3ca6-4e70-8e40-017c58b12f6c",
   "metadata": {},
   "outputs": [],
   "source": [
    "#declare variables\n",
    "dependent_var = 'readmitted_30_days'\n",
    "independent_var = 'gender'\n",
    "\n",
    "#group by dependent and independent vars and count occurrences\n",
    "grouped_df = df.groupby([dependent_var, independent_var]).size().reset_index(name='count')\n",
    "\n",
    "#get total counts for each readmission group\n",
    "total_counts = grouped_df.groupby(dependent_var)['count'].sum().reset_index(name='group_total')\n",
    "\n",
    "#merge group totals back to grouped_df\n",
    "grouped_df = grouped_df.merge(total_counts, on=dependent_var)\n",
    "\n",
    "#calculate proportion within each readmission group\n",
    "grouped_df['proportion'] = grouped_df['count'] / grouped_df['group_total']\n",
    "\n",
    "#create bar plot using proportions\n",
    "fig = px.bar(\n",
    "    grouped_df,\n",
    "    x=dependent_var,\n",
    "    y='proportion',\n",
    "    color=independent_var,\n",
    "    barmode='group',\n",
    "    title='Proportion of Gender within Each Readmission Group'\n",
    ")\n",
    "\n",
    "#specify height and width\n",
    "height, width = 600, 900\n",
    "\n",
    "#update formatting\n",
    "fig.update_layout(\n",
    "    xaxis_title='Readmission within 30 Days',\n",
    "    yaxis_title='Proportion of Patients',\n",
    "    template='plotly_white',\n",
    "    showlegend=True,\n",
    "    height=height,\n",
    "    width=width\n",
    ")\n",
    "\n",
    "#show plot\n",
    "fig.show()"
   ]
  },
  {
   "cell_type": "markdown",
   "id": "7491aab1-4d5e-4491-bac3-55a665a99007",
   "metadata": {},
   "source": [
    "#### Observations"
   ]
  },
  {
   "cell_type": "markdown",
   "id": "6a490c57-6efd-428c-8a71-178dd0749e16",
   "metadata": {},
   "source": [
    "- women contributed a smaller overall proportion of the patients readmitted within 30 days than those who were not readmitted within 30 days (54.8% vs 50.8% to 1.dp)"
   ]
  },
  {
   "cell_type": "markdown",
   "id": "7e8232db-b042-410e-ac1d-8fc202bd6544",
   "metadata": {},
   "source": [
    "### diagnosis_code"
   ]
  },
  {
   "cell_type": "markdown",
   "id": "1d342012-c3a3-4bb3-b102-9dd727891167",
   "metadata": {},
   "source": [
    "#### Count plot"
   ]
  },
  {
   "cell_type": "code",
   "execution_count": null,
   "id": "9de1d292-835d-41e5-a7f1-d6da1238603d",
   "metadata": {},
   "outputs": [],
   "source": [
    "#declare variables\n",
    "dependent_var = 'readmitted_30_days'\n",
    "independent_var = 'diagnosis_code'\n",
    "\n",
    "#create a grouped count DataFrame\n",
    "grouped_df = df.groupby([dependent_var, independent_var]).size().reset_index(name='count')\n",
    "\n",
    "fig = px.bar(grouped_df, \n",
    "             x=dependent_var,\n",
    "             y='count',\n",
    "             color=independent_var, \n",
    "             barmode='group',\n",
    "             title='Readmission vs Diagnosis Code')\n",
    "\n",
    "#specify height and width\n",
    "height, width = 600, 900\n",
    "\n",
    "#update formatting\n",
    "fig.update_layout(\n",
    "    xaxis_title='Readmission within 30 Days',\n",
    "    yaxis_title='Number of Patients',\n",
    "    template='plotly_white',\n",
    "    showlegend=True,\n",
    "    height=height,\n",
    "    width=width\n",
    ")\n",
    "\n",
    "#show plot\n",
    "fig.show()"
   ]
  },
  {
   "cell_type": "markdown",
   "id": "28645908-abcc-4032-bfb0-a6727381dfcd",
   "metadata": {},
   "source": [
    "#### Proportion plot"
   ]
  },
  {
   "cell_type": "code",
   "execution_count": null,
   "id": "e833973e-f841-4626-9838-aff3d9c06aff",
   "metadata": {},
   "outputs": [],
   "source": [
    "#declare variables\n",
    "dependent_var = 'readmitted_30_days'\n",
    "independent_var = 'diagnosis_code'\n",
    "\n",
    "#group by dependent and independent vars and count occurrences\n",
    "grouped_df = df.groupby([dependent_var, independent_var]).size().reset_index(name='count')\n",
    "\n",
    "#get total counts for each readmission group\n",
    "total_counts = grouped_df.groupby(dependent_var)['count'].sum().reset_index(name='group_total')\n",
    "\n",
    "#merge group totals back to grouped_df\n",
    "grouped_df = grouped_df.merge(total_counts, on=dependent_var)\n",
    "\n",
    "#calculate proportion within each readmission group\n",
    "grouped_df['proportion'] = grouped_df['count'] / grouped_df['group_total']\n",
    "\n",
    "#create bar plot using proportions\n",
    "fig = px.bar(\n",
    "    grouped_df,\n",
    "    x=dependent_var,\n",
    "    y='proportion',\n",
    "    color=independent_var,\n",
    "    barmode='group',\n",
    "    title='Proportion of Diagnosis Codes within Each Readmission Group'\n",
    ")\n",
    "\n",
    "#specify height and width\n",
    "height, width = 600, 900\n",
    "\n",
    "#update formatting\n",
    "fig.update_layout(\n",
    "    xaxis_title='Readmission within 30 Days',\n",
    "    yaxis_title='Proportion of Patients',\n",
    "    template='plotly_white',\n",
    "    showlegend=True,\n",
    "    height=height,\n",
    "    width=width\n",
    ")\n",
    "\n",
    "#show plot\n",
    "fig.show()"
   ]
  },
  {
   "cell_type": "markdown",
   "id": "3ac6cfb7-7513-40cb-afb1-d2109d966c12",
   "metadata": {},
   "source": [
    "#### Obvservations"
   ]
  },
  {
   "cell_type": "markdown",
   "id": "ff1e414f-9ba2-4662-abbc-5d600e87794d",
   "metadata": {},
   "source": [
    "- D001 had similar representation across readmitted and non-readmitted individuals\n",
    "- D002 had a smaller representation in readmitted individuals\n",
    "- D003 had a slightly larger representation in readmitted individuals \n",
    "- D004 had similar representation across readmitted and non-readmitted individuals"
   ]
  },
  {
   "cell_type": "markdown",
   "id": "4e40ad67-1366-4b39-8af2-6361cdd6869a",
   "metadata": {},
   "source": [
    "### num_previous_admissions"
   ]
  },
  {
   "cell_type": "markdown",
   "id": "cca3085d-4db6-4b13-85f9-21a1f5bc4ace",
   "metadata": {},
   "source": [
    "#### Proportion plot"
   ]
  },
  {
   "cell_type": "code",
   "execution_count": null,
   "id": "8f4e40ae-3d00-47ac-99d8-c5ac36f13528",
   "metadata": {},
   "outputs": [],
   "source": [
    "#declare variables\n",
    "dependent_var = 'readmitted_30_days'\n",
    "independent_var = 'num_previous_admissions'\n",
    "\n",
    "#group by dependent and independent vars and count occurrences\n",
    "grouped_df = df.groupby([dependent_var, independent_var]).size().reset_index(name='count')\n",
    "\n",
    "#get total counts for each readmission group\n",
    "total_counts = grouped_df.groupby(dependent_var)['count'].sum().reset_index(name='group_total')\n",
    "\n",
    "#merge group totals back to grouped_df\n",
    "grouped_df = grouped_df.merge(total_counts, on=dependent_var)\n",
    "\n",
    "#calculate proportion within each readmission group\n",
    "grouped_df['proportion'] = grouped_df['count'] / grouped_df['group_total']\n",
    "\n",
    "#create bar plot using proportions\n",
    "fig = px.bar(\n",
    "    grouped_df,\n",
    "    x=dependent_var,\n",
    "    y='proportion',\n",
    "    color=independent_var,\n",
    "    barmode='group',\n",
    "    title='Proportion of Number of Previous Admissions within Each Readmission Group'\n",
    ")\n",
    "\n",
    "#specify height and width\n",
    "height, width = 600, 900\n",
    "\n",
    "#update formatting\n",
    "fig.update_layout(\n",
    "    xaxis_title='Readmission within 30 Days',\n",
    "    yaxis_title='Proportion of Patients',\n",
    "    template='plotly_white',\n",
    "    showlegend=True,\n",
    "    height=height,\n",
    "    width=width\n",
    ")\n",
    "\n",
    "#show plot\n",
    "fig.show()"
   ]
  },
  {
   "cell_type": "markdown",
   "id": "1fd2abe3-7334-4bb8-b787-94ba6c126880",
   "metadata": {},
   "source": [
    "#### Box plot"
   ]
  },
  {
   "cell_type": "code",
   "execution_count": null,
   "id": "619b4721-e074-44cc-ac70-10ab0ddc108c",
   "metadata": {},
   "outputs": [],
   "source": [
    "#declare variables\n",
    "independent_var = 'num_previous_admissions'\n",
    "dependent_var = 'readmitted_30_days'         \n",
    "\n",
    "#create boxplot\n",
    "fig = px.box(\n",
    "    df,\n",
    "    x=dependent_var,\n",
    "    y=independent_var,\n",
    "    color=dependent_var,\n",
    "    title='Readmission vs Number of Previous Admissions',\n",
    "    template='plotly_white'\n",
    ")\n",
    "\n",
    "#specify height and width\n",
    "height, width = 600, 900\n",
    "\n",
    "#update formatting\n",
    "fig.update_layout(\n",
    "    xaxis_title='Readmission within 30 Days',\n",
    "    yaxis_title='Number of Previous Admissions',\n",
    "    showlegend=False,\n",
    "    height=height,\n",
    "    width=width\n",
    ")\n",
    "\n",
    "#show plot\n",
    "fig.show()"
   ]
  },
  {
   "cell_type": "markdown",
   "id": "43922141-a4f6-4fde-bc7c-9a7b1f048ca5",
   "metadata": {},
   "source": [
    "#### Density plot"
   ]
  },
  {
   "cell_type": "code",
   "execution_count": null,
   "id": "0c610951-a7d5-46a9-a3b4-37d592476d8e",
   "metadata": {},
   "outputs": [],
   "source": [
    "#declare variables\n",
    "independent_var = 'num_previous_admissions'\n",
    "dependent_var = 'readmitted_30_days'\n",
    "\n",
    "#create violin plot\n",
    "fig = px.violin(\n",
    "    df,\n",
    "    y=independent_var,\n",
    "    x=dependent_var,\n",
    "    color=dependent_var,\n",
    "    box=False,            # Remove boxplot elements\n",
    "    points=False,         # Remove individual data points\n",
    "    hover_data=df.columns,\n",
    "    title='Readmission vs Number of Previous Admissions',\n",
    "    template='plotly_white'\n",
    ")\n",
    "\n",
    "#specify height and width\n",
    "height, width = 600, 900\n",
    "\n",
    "#update formatting\n",
    "fig.update_layout(\n",
    "    xaxis_title='Readmission within 30 Days',\n",
    "    yaxis_title='Number of Previous Admissions',\n",
    "    showlegend=False,\n",
    "    height=height,\n",
    "    width=width\n",
    ")\n",
    "\n",
    "#show plot\n",
    "fig.show()"
   ]
  },
  {
   "cell_type": "markdown",
   "id": "0a7a1258-0083-40dd-b1a4-4aea52f4cf53",
   "metadata": {},
   "source": [
    "#### Obvservations"
   ]
  },
  {
   "cell_type": "markdown",
   "id": "2403857a-bff6-4ae8-8caf-4939a97d2ace",
   "metadata": {},
   "source": [
    "- individuals with one previous admission had a moderately higher density in individuals who went on to be readmitted within 30 days than those who did not go on to be readmitted\n",
    "- individuals with 2 previous admissions had a moderately lower density in individuals who went on to be readmitted within 30 days than those who did not go on to be readmitted\n",
    "- individuals with 5 previous admissions had a moderately lower density in individuals who went on to be readmitted within 30 days than those who did not go on to be readmitted, although the population size was small and the impact of variance could be exaggerated\n",
    "- individuals with 6 previous admissions had a moderately higher density in individuals who went on to be readmitted within 30 days than those who did not go on to be readmitted, although the population size was small and the impact of variance could be exaggerated"
   ]
  },
  {
   "cell_type": "markdown",
   "id": "53cb11cb-de45-419f-a589-a930488b37b8",
   "metadata": {},
   "source": [
    "### medication_type"
   ]
  },
  {
   "cell_type": "markdown",
   "id": "9807907a-f7f6-41a8-87bb-eac09b04320f",
   "metadata": {},
   "source": [
    "#### Count plot"
   ]
  },
  {
   "cell_type": "code",
   "execution_count": null,
   "id": "e2ac8dcb-c53e-470e-9f21-e6fe5f2fe3c0",
   "metadata": {},
   "outputs": [],
   "source": [
    "#declare variables\n",
    "dependent_var = 'readmitted_30_days'\n",
    "independent_var = 'medication_type'\n",
    "\n",
    "#create a grouped count DataFrame\n",
    "grouped_df = df.groupby([dependent_var, independent_var]).size().reset_index(name='count')\n",
    "\n",
    "fig = px.bar(grouped_df, \n",
    "             x=dependent_var,\n",
    "             y='count',\n",
    "             color=independent_var, \n",
    "             barmode='group',\n",
    "             title='Readmission vs Medication Type')\n",
    "\n",
    "#specify height and width\n",
    "height, width = 600, 900\n",
    "\n",
    "#update formatting\n",
    "fig.update_layout(\n",
    "    xaxis_title='Readmission within 30 Days',\n",
    "    yaxis_title='Number of Patients',\n",
    "    template='plotly_white',\n",
    "    showlegend=True,\n",
    "    height=height,\n",
    "    width=width\n",
    ")\n",
    "\n",
    "#show plot\n",
    "fig.show()"
   ]
  },
  {
   "cell_type": "markdown",
   "id": "78ad43d8-6171-425e-8707-01085a1e0c51",
   "metadata": {},
   "source": [
    "#### Proportion plot"
   ]
  },
  {
   "cell_type": "code",
   "execution_count": null,
   "id": "ffda30c8-bece-4d0f-ae22-a68f015040db",
   "metadata": {},
   "outputs": [],
   "source": [
    "#declare variables\n",
    "dependent_var = 'readmitted_30_days'\n",
    "independent_var = 'medication_type'\n",
    "\n",
    "#group by dependent and independent vars and count occurrences\n",
    "grouped_df = df.groupby([dependent_var, independent_var]).size().reset_index(name='count')\n",
    "\n",
    "#get total counts for each readmission group\n",
    "total_counts = grouped_df.groupby(dependent_var)['count'].sum().reset_index(name='group_total')\n",
    "\n",
    "#merge group totals back to grouped_df\n",
    "grouped_df = grouped_df.merge(total_counts, on=dependent_var)\n",
    "\n",
    "#calculate proportion within each readmission group\n",
    "grouped_df['proportion'] = grouped_df['count'] / grouped_df['group_total']\n",
    "\n",
    "#create bar plot using proportions\n",
    "fig = px.bar(\n",
    "    grouped_df,\n",
    "    x=dependent_var,\n",
    "    y='proportion',\n",
    "    color=independent_var,\n",
    "    barmode='group',\n",
    "    title='Proportion of Medication Types within Each Readmission Group'\n",
    ")\n",
    "\n",
    "#specify height and width\n",
    "height, width = 600, 900\n",
    "\n",
    "#update formatting\n",
    "fig.update_layout(\n",
    "    xaxis_title='Readmission within 30 Days',\n",
    "    yaxis_title='Proportion of Patients',\n",
    "    template='plotly_white',\n",
    "    showlegend=True,\n",
    "    height=height,\n",
    "    width=width\n",
    ")\n",
    "\n",
    "#show plot\n",
    "fig.show()"
   ]
  },
  {
   "cell_type": "markdown",
   "id": "b1c223f5-61fe-40ef-b69d-8e925438d601",
   "metadata": {},
   "source": [
    "#### Observations"
   ]
  },
  {
   "cell_type": "markdown",
   "id": "3ab7e5e6-0d57-4719-8516-ea44f77c3df8",
   "metadata": {},
   "source": [
    "- individuals on Type A medication had a mildly lower proportional representation in individuals who went on to be readmitted vs those who did not\n",
    "- individuals on Type C medication had a mildly higher proportional representation in individuals who went on to be readmitted vs those who did not"
   ]
  },
  {
   "cell_type": "markdown",
   "id": "45be44e6-4ddf-4fee-aa6f-d2dd7091bca2",
   "metadata": {},
   "source": [
    "### length_of_stay"
   ]
  },
  {
   "cell_type": "markdown",
   "id": "d311c93f-e6a4-4535-8a0e-48109549e229",
   "metadata": {},
   "source": [
    "#### Box plot"
   ]
  },
  {
   "cell_type": "code",
   "execution_count": null,
   "id": "8b648670-a89d-4540-b52f-48d4142867d7",
   "metadata": {},
   "outputs": [],
   "source": [
    "#declare variables\n",
    "independent_var = 'length_of_stay'\n",
    "dependent_var = 'readmitted_30_days'       \n",
    "\n",
    "#create boxplot\n",
    "fig = px.box(\n",
    "    df,\n",
    "    x=dependent_var,\n",
    "    y=independent_var,\n",
    "    color=dependent_var,\n",
    "    title='Readmission vs Number of Length of Stay',\n",
    "    template='plotly_white'\n",
    ")\n",
    "\n",
    "#specify height and width\n",
    "height, width = 600, 900\n",
    "\n",
    "#formatting\n",
    "fig.update_layout(\n",
    "    xaxis_title='Readmission within 30 Days',\n",
    "    yaxis_title='Length of Stay',\n",
    "    showlegend=False,\n",
    "    height=height,\n",
    "    width=width\n",
    ")\n",
    "\n",
    "#show plot\n",
    "fig.show()"
   ]
  },
  {
   "cell_type": "markdown",
   "id": "c748a85a-5765-41aa-b1f6-efb430d67b46",
   "metadata": {},
   "source": [
    "#### Density plot"
   ]
  },
  {
   "cell_type": "code",
   "execution_count": null,
   "id": "ed09d191-7358-41c0-bfca-37577f6cd06e",
   "metadata": {},
   "outputs": [],
   "source": [
    "#declare variables\n",
    "independent_var = 'length_of_stay'\n",
    "dependent_var = 'readmitted_30_days'  # binary\n",
    "\n",
    "#create violin plot\n",
    "fig = px.violin(\n",
    "    df,\n",
    "    y=independent_var,\n",
    "    x=dependent_var,\n",
    "    color=dependent_var,\n",
    "    box=False,            # Remove boxplot elements\n",
    "    points=False,         # Remove individual data points\n",
    "    hover_data=df.columns,\n",
    "    title='Readmission vs Number of Length of Stay',\n",
    "    template='plotly_white'\n",
    ")\n",
    "\n",
    "#specify height and width\n",
    "height, width = 600, 900\n",
    "\n",
    "#update formatting\n",
    "fig.update_layout(\n",
    "    xaxis_title='Readmission within 30 Days',\n",
    "    yaxis_title='Length of Stay',\n",
    "    showlegend=False,\n",
    "    height=height,\n",
    "    width=width\n",
    ")\n",
    "\n",
    "#show plot\n",
    "fig.show()"
   ]
  },
  {
   "cell_type": "markdown",
   "id": "95e7cf05-947d-4858-8c25-680be816725f",
   "metadata": {},
   "source": [
    "#### Observations"
   ]
  },
  {
   "cell_type": "markdown",
   "id": "77bcacc2-9193-4f70-be26-1c42311ae01f",
   "metadata": {},
   "source": [
    "- length_of_stay values ranged between 1 - 14 days\n",
    "- median length of stay between readmitted and non-readmitted patients 8 \n",
    "- IQR for patients that were not readmitted was between 4 - 11 days\n",
    "- IQR for patients that were readmitted was shifted up by a day with a Q1 value of 5 and Q3 value of \n",
    "- Patients that stayed between 10 - 14 days were had a higher density in readmitted patients compared the non-readmitted equivalent\n",
    "- Patients that stayed between 1 - 4 days had a lower density in readmitted patients compared to the non-readmitted equivalent"
   ]
  },
  {
   "cell_type": "markdown",
   "id": "1749a540-c09f-4a5a-b6e7-bf7bcf6dbc33",
   "metadata": {},
   "source": [
    "### age"
   ]
  },
  {
   "cell_type": "markdown",
   "id": "d63a944c-3044-4dd1-98d2-563936cb6ec3",
   "metadata": {},
   "source": [
    "#### Boxplot"
   ]
  },
  {
   "cell_type": "code",
   "execution_count": null,
   "id": "50c49c32-e886-4710-bc07-dbdeab87e00a",
   "metadata": {},
   "outputs": [],
   "source": [
    "#declare variables\n",
    "independent_var = 'age'\n",
    "dependent_var = 'readmitted_30_days'\n",
    "\n",
    "#create boxplot\n",
    "fig = px.box(\n",
    "    df,\n",
    "    x=dependent_var,\n",
    "    y=independent_var,\n",
    "    color=dependent_var,\n",
    "    title='Readmission vs Age',\n",
    "    template='plotly_white'\n",
    ")\n",
    "\n",
    "#specify height and width\n",
    "height, width = 600, 900\n",
    "\n",
    "#update formatting\n",
    "fig.update_layout(\n",
    "    xaxis_title='Readmission within 30 Days',\n",
    "    yaxis_title='Age',\n",
    "    showlegend=False,\n",
    "    height=height,\n",
    "    width=width\n",
    ")\n",
    "\n",
    "#show plot\n",
    "fig.show()"
   ]
  },
  {
   "cell_type": "markdown",
   "id": "5744cadf-6147-40e6-b8ee-7687a88c4902",
   "metadata": {},
   "source": [
    "#### Density plot"
   ]
  },
  {
   "cell_type": "code",
   "execution_count": null,
   "id": "1485fb9f-32a2-416b-8107-676ff86c0fe4",
   "metadata": {},
   "outputs": [],
   "source": [
    "#declare variables\n",
    "independent_var = 'age'\n",
    "dependent_var = 'readmitted_30_days'  # binary\n",
    "\n",
    "#create violin plot\n",
    "fig = px.violin(\n",
    "    df,\n",
    "    y=independent_var,\n",
    "    x=dependent_var,\n",
    "    color=dependent_var,\n",
    "    box=False,            # Remove boxplot elements\n",
    "    points=False,         # Remove individual data points\n",
    "    hover_data=df.columns,\n",
    "    title='Age Distribution by Readmission',\n",
    "    template='plotly_white'\n",
    ")\n",
    "\n",
    "#specify height and width\n",
    "height, width = 600, 900\n",
    "\n",
    "#update formatting\n",
    "fig.update_layout(\n",
    "    xaxis_title='Readmission within 30 Days',\n",
    "    yaxis_title='Age',\n",
    "    showlegend=False,\n",
    "    height=height,\n",
    "    width=width\n",
    ")\n",
    "\n",
    "#show plot\n",
    "fig.show()"
   ]
  },
  {
   "cell_type": "markdown",
   "id": "e7777288-d4a9-4757-9b45-55991adae0f7",
   "metadata": {},
   "source": [
    "#### Observations"
   ]
  },
  {
   "cell_type": "markdown",
   "id": "efea60bd-373d-4c81-9f94-899ca3f3da6d",
   "metadata": {},
   "source": [
    "- same total range between individuals who were readmitted and those who were not (20 - 89 years)\n",
    "- median age of readmitted individuals was higher that the equivalent in patients who were not readmitted, 58 year and 54 years in the respective order\n",
    "- readmitted individuals were more evenly spread across a wider range of ages, shown by the larger interquartile range, 27 - 73 years for readmitted inviduals vs 38 - 73.5 years for those who were not readmitted\n",
    "- higher density in readmitted individuals between 20 - 30 years and between 65 - 75 years\n",
    "- lower density in readmitted individuals between 34 - 62 years"
   ]
  },
  {
   "cell_type": "markdown",
   "id": "0cd7051d-f4df-4e7e-8d0f-c90be94b108a",
   "metadata": {},
   "source": [
    "## Feature engineering"
   ]
  },
  {
   "cell_type": "markdown",
   "id": "d8e8c830-d443-4987-846d-ffd08d28ea6c",
   "metadata": {},
   "source": [
    "### num_previous_admissions - encode"
   ]
  },
  {
   "cell_type": "code",
   "execution_count": null,
   "id": "ddec09dc-795a-4810-946f-e977b6e4bdd9",
   "metadata": {},
   "outputs": [],
   "source": [
    "#ignore values 5 & 6 due to low sample size\n",
    "\n",
    "#create columns for 1 and 2 previous admissions\n",
    "df['e_num_previous_admissions_1'] = 0\n",
    "df['e_num_previous_admissions_2'] = 0 \n",
    "\n",
    "#assign 1 where num_previous_admissions == 1\n",
    "df.loc[df['num_previous_admissions'] == 1, 'e_num_previous_admissions_1'] = 1\n",
    "df.loc[df['num_previous_admissions'] == 2, 'e_num_previous_admissions_2'] = 1\n",
    "\n",
    "#show df\n",
    "df.head(2)"
   ]
  },
  {
   "cell_type": "markdown",
   "id": "f0871bf5-b7d4-4631-b7ec-b2a8de18bf0a",
   "metadata": {},
   "source": [
    "### age - encode"
   ]
  },
  {
   "cell_type": "code",
   "execution_count": null,
   "id": "d2924142-3d25-40d3-a826-78d3554ed5e9",
   "metadata": {},
   "outputs": [],
   "source": [
    "#create binary indicator columns (already initialized to 0)\n",
    "df['e_age_20to30'] = 0\n",
    "df['e_age_65to75'] = 0\n",
    "df['e_age_34to62'] = 0\n",
    "\n",
    "# set to 1 where the condition is met\n",
    "df.loc[(df['age'] >= 20) & (df['age'] <= 30), 'e_age_20to30'] = 1\n",
    "df.loc[(df['age'] >= 65) & (df['age'] <= 75), 'e_age_65to75'] = 1\n",
    "df.loc[(df['age'] >= 34) & (df['age'] <= 62), 'e_age_34to62'] = 1\n",
    "\n",
    "#show df\n",
    "df.head(2)"
   ]
  },
  {
   "cell_type": "markdown",
   "id": "fb1d74cc-5d0a-4595-82b6-e01d61b0e947",
   "metadata": {},
   "source": [
    "### length_of_stay - encode"
   ]
  },
  {
   "cell_type": "code",
   "execution_count": null,
   "id": "c73a21b7-0e51-4cad-81b7-68542f113fe1",
   "metadata": {},
   "outputs": [],
   "source": [
    "#create binary indicator columns (already initialized to 0)\n",
    "df['e_length_of_stay_1to4'] = 0\n",
    "df['e_length_of_stay_10to14'] = 0\n",
    "\n",
    "#set to 1 where the condition is met\n",
    "df.loc[(df['length_of_stay'] >= 1) & (df['length_of_stay'] <= 4), 'e_length_of_stay_1to4'] = 1\n",
    "df.loc[(df['length_of_stay'] >= 10) & (df['length_of_stay'] <= 14), 'e_length_of_stay_10to14'] = 1\n",
    "\n",
    "#show df\n",
    "df.head(2)"
   ]
  },
  {
   "cell_type": "markdown",
   "id": "530d4efc-a42c-488e-83b9-5b2b9790f4b0",
   "metadata": {},
   "source": [
    "### medication_type - encode"
   ]
  },
  {
   "cell_type": "code",
   "execution_count": null,
   "id": "42b56e5b-1a01-4bc0-a563-52d159c3694e",
   "metadata": {},
   "outputs": [],
   "source": [
    "#create binary indicator columns for medication_type C\n",
    "df['e_medication_type_c'] = 0\n",
    "\n",
    "#set to 1 where the condition is met\n",
    "df.loc[df['medication_type'] == 'Type C', 'e_medication_type_c'] = 1\n",
    "\n",
    "#show df\n",
    "df.head(2)"
   ]
  },
  {
   "cell_type": "markdown",
   "id": "03c46aa4-2821-4439-b5f8-a310e1ee684f",
   "metadata": {},
   "source": [
    "### diagnosis_code - encode"
   ]
  },
  {
   "cell_type": "code",
   "execution_count": null,
   "id": "03e92e13-dedc-4cda-b012-b95f7b224ef6",
   "metadata": {},
   "outputs": [],
   "source": [
    "#create binary indicator columns for diagnosis_code d003\n",
    "df['e_diagnosis_code_d003'] = 0\n",
    "\n",
    "#set to 1 where the condition is met\n",
    "df.loc[df['diagnosis_code'] == 'D003', 'e_diagnosis_code_d003'] = 1\n",
    "\n",
    "#show df\n",
    "df.head(2)"
   ]
  },
  {
   "cell_type": "markdown",
   "id": "da352550-33a2-4708-8904-3d983d8b6226",
   "metadata": {},
   "source": [
    "## Benchmark modelling"
   ]
  },
  {
   "cell_type": "markdown",
   "id": "4e70b7ed-831a-46ba-88cf-fd10fad3fdec",
   "metadata": {},
   "source": [
    "### Re-ordering dataframe"
   ]
  },
  {
   "cell_type": "code",
   "execution_count": null,
   "id": "f72d612e-acd7-463b-9341-2e11cc119112",
   "metadata": {},
   "outputs": [],
   "source": [
    "#create new order for columns\n",
    "ordered_columns = [\n",
    "    'patient_id',\n",
    "    'age',\n",
    "    'gender',\n",
    "    'diagnosis_code',\n",
    "    'num_previous_admissions',\n",
    "    'medication_type',\n",
    "    'length_of_stay',\n",
    "    'discharge_note',\n",
    "    'e_num_previous_admissions_1',\n",
    "    'e_num_previous_admissions_2',\n",
    "    'e_age_20to30',\n",
    "    'e_age_65to75',\n",
    "    'e_age_34to62',\n",
    "    'e_length_of_stay_1to4',\n",
    "    'e_length_of_stay_10to14',\n",
    "    'e_medication_type_c',\n",
    "    'e_diagnosis_code_d003',\n",
    "    'readmitted_30_days'\n",
    "]\n",
    "\n",
    "#list engineered features\n",
    "engineered_features = [\n",
    "    'e_num_previous_admissions_1',\n",
    "    'e_num_previous_admissions_2',\n",
    "    'e_age_20to30',\n",
    "    'e_age_65to75',\n",
    "    'e_age_34to62',\n",
    "    'e_length_of_stay_1to4',\n",
    "    'e_length_of_stay_10to14',\n",
    "    'e_medication_type_c',\n",
    "    'e_diagnosis_code_d003',\n",
    "]\n",
    "\n",
    "#re-order df\n",
    "df = df[ordered_columns]\n",
    "\n",
    "#show new df\n",
    "df.head(2)"
   ]
  },
  {
   "cell_type": "markdown",
   "id": "a9ebbaf1-0638-410b-9c9d-98f11006dd70",
   "metadata": {},
   "source": [
    "### Creating a dataframe for benchmarking"
   ]
  },
  {
   "cell_type": "code",
   "execution_count": null,
   "id": "acfbddb9-67dd-4f9b-92da-3eff931218e4",
   "metadata": {},
   "outputs": [],
   "source": [
    "#create list of benchmark columns\n",
    "benchmark_cols = [\n",
    "\n",
    "    #raw input features - discharge note removed\n",
    "    'age',\n",
    "    'gender',\n",
    "    'diagnosis_code',\n",
    "    'num_previous_admissions',\n",
    "    'medication_type',\n",
    "    'length_of_stay',\n",
    "\n",
    "    #target variable\n",
    "    'readmitted_30_days'\n",
    "]\n",
    "\n",
    "#create benchmark_df\n",
    "benchmark_df = df[benchmark_cols].copy()\n",
    "\n",
    "#show benchmark_df\n",
    "benchmark_df.head(2)"
   ]
  },
  {
   "cell_type": "markdown",
   "id": "6150e6af-8400-498d-9dbf-a70b3ec6e92f",
   "metadata": {},
   "source": [
    "### Random Forest"
   ]
  },
  {
   "cell_type": "markdown",
   "id": "910909e2-cc7b-4371-aefc-c5d4b0d2ee6e",
   "metadata": {},
   "source": [
    "#### Pre-processing"
   ]
  },
  {
   "cell_type": "code",
   "execution_count": null,
   "id": "4a98b0e7-5c1b-4df9-95b0-fa71921fa5b0",
   "metadata": {},
   "outputs": [],
   "source": [
    "from sklearn.preprocessing import OneHotEncoder\n",
    "\n",
    "#columns to encode\n",
    "string_cols = ['gender', 'diagnosis_code', 'medication_type']\n",
    "\n",
    "#instantiate OneHotEncoder\n",
    "ohe = OneHotEncoder(drop='first', sparse_output=False, handle_unknown='ignore')\n",
    "\n",
    "# ft and transform on string columns\n",
    "encoded_array = ohe.fit_transform(benchmark_df[string_cols])\n",
    "\n",
    "#create a DataFrame from the encoded array with meaningful column names\n",
    "encoded_df = pd.DataFrame(\n",
    "    encoded_array,\n",
    "    columns=ohe.get_feature_names_out(string_cols),\n",
    "    index=benchmark_df.index\n",
    ")\n",
    "\n",
    "#drop original string columns and concatenate encoded columns\n",
    "ranf_benchmark_df = pd.concat([\n",
    "    benchmark_df.drop(columns=string_cols),\n",
    "    encoded_df\n",
    "], axis=1)\n",
    "\n",
    "#show df\n",
    "ranf_benchmark_df.head(2)"
   ]
  },
  {
   "cell_type": "markdown",
   "id": "cd528e67-bd2f-4ef0-849e-f6b1b014caef",
   "metadata": {},
   "source": [
    "#### Dataset creation"
   ]
  },
  {
   "cell_type": "code",
   "execution_count": null,
   "id": "169708df-f289-4cd1-8403-28c845fb11c7",
   "metadata": {},
   "outputs": [],
   "source": [
    "from sklearn.model_selection import train_test_split\n",
    "\n",
    "#create X and y dataframe slices\n",
    "X = ranf_benchmark_df.drop(columns='readmitted_30_days').copy()\n",
    "y = ranf_benchmark_df[['readmitted_30_days']].copy()\n",
    "\n",
    "#create stratified train-test split to handle class imbalance\n",
    "X_train, X_test, y_train, y_test = train_test_split(\n",
    "    X, y, test_size=0.2, stratify=y, random_state=42\n",
    ")\n",
    "\n",
    "#show shapes of dataframes\n",
    "print(\"\\nDataset Shapes:\")\n",
    "print(\"X_train shape:\", X_train.shape)\n",
    "print(\"X_test shape:\", X_test.shape)\n",
    "print(\"y_train shape:\", y_train.shape)\n",
    "print(\"y_test shape:\", y_test.shape)\n",
    "\n",
    "#show class distribution in y_train and y_test\n",
    "print(\"\\nClass distributions:\")\n",
    "print(y_train['readmitted_30_days'].value_counts(normalize=True))\n",
    "print(y_test['readmitted_30_days'].value_counts(normalize=True))"
   ]
  },
  {
   "cell_type": "markdown",
   "id": "37835a3a-ec7c-4297-b4ad-c8001f4c81b7",
   "metadata": {},
   "source": [
    "#### Model training"
   ]
  },
  {
   "cell_type": "code",
   "execution_count": null,
   "id": "2770c81a-3e9a-4869-8c1d-8f5e8906ac06",
   "metadata": {},
   "outputs": [],
   "source": [
    "from sklearn.ensemble import RandomForestClassifier\n",
    "\n",
    "#instantiate Random Forest model using out-of-box hyperparameters\n",
    "rf_model = RandomForestClassifier(\n",
    "    n_estimators=100,               \n",
    "    criterion='gini',               \n",
    "    max_depth=None,                \n",
    "    min_samples_split=2,          \n",
    "    min_samples_leaf=1,            \n",
    "    min_weight_fraction_leaf=0.0,  \n",
    "    max_features='sqrt',          \n",
    "    max_leaf_nodes=None,           \n",
    "    min_impurity_decrease=0.0,     \n",
    "    bootstrap=True,                \n",
    "    oob_score=False,               \n",
    "    n_jobs=None,                   \n",
    "    random_state=42,               \n",
    "    verbose=0,                     \n",
    "    warm_start=False,              \n",
    "    class_weight=None,             \n",
    "    ccp_alpha=0.0,                 \n",
    "    max_samples=None        \n",
    ")\n",
    "\n",
    "# Fit the model\n",
    "rf_model.fit(X_train, y_train.values.ravel())  # ravel to avoid warning for 2D y"
   ]
  },
  {
   "cell_type": "markdown",
   "id": "b78a15c3-6705-4a2f-8ada-3b21b7ab3e01",
   "metadata": {},
   "source": [
    "#### Performance"
   ]
  },
  {
   "cell_type": "code",
   "execution_count": null,
   "id": "da4280b7-6ac8-4755-8e9b-b027f44bb9ff",
   "metadata": {},
   "outputs": [],
   "source": [
    "from sklearn.metrics import (\n",
    "    confusion_matrix, ConfusionMatrixDisplay,\n",
    "    accuracy_score, f1_score, fbeta_score, roc_auc_score, roc_curve\n",
    ")\n",
    "\n",
    "import matplotlib.pyplot as plt\n",
    "\n",
    "%matplotlib inline\n",
    "\n",
    "#predict class labels\n",
    "y_pred = rf_model.predict(X_test)\n",
    "\n",
    "#predict class probabilities for ROC AUC\n",
    "y_probs = rf_model.predict_proba(X_test)[:, 1]\n",
    "\n",
    "#accuracy\n",
    "accuracy = accuracy_score(y_test, y_pred)\n",
    "print(f\"Accuracy: {accuracy:.3f}\")\n",
    "\n",
    "#F1 Score\n",
    "f1 = f1_score(y_test, y_pred)\n",
    "print(f\"F1 Score: {f1:.3f}\")\n",
    "\n",
    "#F2 Score\n",
    "f2 = fbeta_score(y_test, y_pred, beta=2)\n",
    "print(f\"F2 Score: {f2:.3f}\")\n",
    "\n",
    "#ROC AUC Score\n",
    "roc = roc_auc_score(y_test, y_probs)\n",
    "print(f\"ROC AUC Score: {roc:.3f}\")\n",
    "\n",
    "#confusion matrix\n",
    "cm = confusion_matrix(y_test, y_pred)\n",
    "disp = ConfusionMatrixDisplay(confusion_matrix=cm, display_labels=rf_model.classes_)\n",
    "disp.plot(cmap='Blues')\n",
    "plt.title('Confusion Matrix')\n",
    "plt.show()"
   ]
  },
  {
   "cell_type": "markdown",
   "id": "44d3ceaa-76ad-45de-bf44-d611035f9ff5",
   "metadata": {},
   "source": [
    "#### SHAP plot"
   ]
  },
  {
   "cell_type": "code",
   "execution_count": null,
   "id": "fa08749d-2b6b-434e-a789-0fdf137e7dad",
   "metadata": {},
   "outputs": [],
   "source": [
    "import shap\n",
    "import matplotlib.pyplot as plt\n",
    "\n",
    "#create SHAP TreeExplainer\n",
    "explainer = shap.TreeExplainer(rf_model)\n",
    "\n",
    "#compute SHAP values for the test data\n",
    "shap_values = explainer(X_test)\n",
    "\n",
    "#extract SHAP values for readmitted\n",
    "shap_values_class1 = shap_values[..., 1]\n",
    "\n",
    "#plot SHAP bar plot\n",
    "plt.figure(figsize=(12, 6))\n",
    "shap.plots.bar(shap_values_class1, max_display=10)"
   ]
  },
  {
   "cell_type": "markdown",
   "id": "46d1f7e0-35c7-4382-9f13-e589d0abab72",
   "metadata": {},
   "source": [
    "### Observations"
   ]
  },
  {
   "cell_type": "markdown",
   "id": "c075d02a-f258-4b2a-bff2-1b0f524e075a",
   "metadata": {},
   "source": [
    "- The benchmark model showed weak predictive ability across all metrics, falling below the baseline accuracy of 0.66 (accuracy achieved when only selecting the most prevalent class in the outcome variable) \n",
    "- The model also favoured the predicting the negative class with a ratio of 1:3 positive to negative predictions compared to the 1:2 ratio observed in the outcome variable\n",
    "- `gender`, `length_of_stay`, `medication_type_c`, `diagnosis_code_D003`, `age` and `num_previous_admissions` were identified as important features in the SHAP plot"
   ]
  },
  {
   "cell_type": "markdown",
   "id": "9634c9e7-1932-4380-a9f1-8e2b4323ec39",
   "metadata": {},
   "source": [
    "## Modelling engineered features only (non-text)"
   ]
  },
  {
   "cell_type": "markdown",
   "id": "999d9160-e22e-440c-8886-89c0aa408838",
   "metadata": {},
   "source": [
    "### Create dataframe for modelling"
   ]
  },
  {
   "cell_type": "code",
   "execution_count": null,
   "id": "69f5d8f4-edb6-4b97-80b3-263515c55b7d",
   "metadata": {},
   "outputs": [],
   "source": [
    "#create df that uses engineered features that try and capture predictive signal from important features\n",
    "e_df = df[engineered_features+['gender', 'readmitted_30_days']].copy()\n",
    "\n",
    "#show df\n",
    "e_df.head(2)"
   ]
  },
  {
   "cell_type": "markdown",
   "id": "9a4a8e2a-4902-4052-8389-6169d9fbebe8",
   "metadata": {},
   "source": [
    "### Random Forest"
   ]
  },
  {
   "cell_type": "markdown",
   "id": "94a5d040-9d68-44cb-b5b7-6eeb1481bab4",
   "metadata": {},
   "source": [
    "#### Preprocessing"
   ]
  },
  {
   "cell_type": "code",
   "execution_count": null,
   "id": "554b41e3-f32d-4a72-9392-efb18fb95c1d",
   "metadata": {},
   "outputs": [],
   "source": [
    "from sklearn.preprocessing import OneHotEncoder\n",
    "\n",
    "#Columns to encode\n",
    "string_cols = ['gender']\n",
    "\n",
    "#Instantiate OneHotEncoder\n",
    "ohe = OneHotEncoder(drop='first', sparse_output=False, handle_unknown='ignore')\n",
    "\n",
    "#Fit and transform\n",
    "encoded_array = ohe.fit_transform(e_df[string_cols])\n",
    "\n",
    "#create a DataFrame from the encoded array\n",
    "encoded_df = pd.DataFrame(\n",
    "    encoded_array,\n",
    "    columns=ohe.get_feature_names_out(string_cols),\n",
    "    index=e_df.index\n",
    ")\n",
    "\n",
    "#drop original string columns and concatenate encoded columns\n",
    "ranf_e_df = pd.concat([\n",
    "    e_df.drop(columns=string_cols),\n",
    "    encoded_df\n",
    "], axis=1)\n",
    "\n",
    "#show df\n",
    "ranf_e_df.head(2)"
   ]
  },
  {
   "cell_type": "markdown",
   "id": "69d60cc6-62cc-46c5-a570-960c8c311288",
   "metadata": {},
   "source": [
    "#### Dataset creation"
   ]
  },
  {
   "cell_type": "code",
   "execution_count": null,
   "id": "4f13081f-cf81-4b11-b3c1-d6e8ef77e625",
   "metadata": {},
   "outputs": [],
   "source": [
    "#create X and y dataframe slices\n",
    "X = ranf_e_df.drop(columns='readmitted_30_days').copy()\n",
    "y = ranf_e_df[['readmitted_30_days']].copy()\n",
    "\n",
    "#create stratified train-test split to handle class imbalance\n",
    "X_train, X_test, y_train, y_test = train_test_split(\n",
    "    X, y, test_size=0.2, stratify=y, random_state=42\n",
    ")\n",
    "\n",
    "#show shapes of dataframes\n",
    "print(\"\\nDataset Shapes:\")\n",
    "print(\"X_train shape:\", X_train.shape)\n",
    "print(\"X_test shape:\", X_test.shape)\n",
    "print(\"y_train shape:\", y_train.shape)\n",
    "print(\"y_test shape:\", y_test.shape)\n",
    "\n",
    "#show class distribution in y_train and y_test\n",
    "print(\"\\nClass distributions:\")\n",
    "print(y_train['readmitted_30_days'].value_counts(normalize=True))\n",
    "print(y_test['readmitted_30_days'].value_counts(normalize=True))"
   ]
  },
  {
   "cell_type": "markdown",
   "id": "eb03672b-b981-427f-8aff-1938a04086fd",
   "metadata": {},
   "source": [
    "#### Model training"
   ]
  },
  {
   "cell_type": "code",
   "execution_count": null,
   "id": "444c2c8a-a9d2-4e83-a802-541d8c450e4d",
   "metadata": {},
   "outputs": [],
   "source": [
    "from sklearn.ensemble import RandomForestClassifier\n",
    "\n",
    "#instantiate Random Forest model using out-of-box hyperparameters\n",
    "rf_model = RandomForestClassifier(\n",
    "    n_estimators=100,               \n",
    "    criterion='gini',               \n",
    "    max_depth=None,                \n",
    "    min_samples_split=2,          \n",
    "    min_samples_leaf=1,            \n",
    "    min_weight_fraction_leaf=0.0,  \n",
    "    max_features='sqrt',          \n",
    "    max_leaf_nodes=None,           \n",
    "    min_impurity_decrease=0.0,     \n",
    "    bootstrap=True,                \n",
    "    oob_score=False,               \n",
    "    n_jobs=None,                   \n",
    "    random_state=42,               \n",
    "    verbose=0,                     \n",
    "    warm_start=False,              \n",
    "    class_weight=None,             \n",
    "    ccp_alpha=0.0,                 \n",
    "    max_samples=None        \n",
    ")\n",
    "\n",
    "# Fit the model\n",
    "rf_model.fit(X_train, y_train.values.ravel())  # ravel to avoid warning for 2D y"
   ]
  },
  {
   "cell_type": "markdown",
   "id": "c8249445-dd00-407d-b6e8-9dc782906160",
   "metadata": {},
   "source": [
    "#### Performance"
   ]
  },
  {
   "cell_type": "code",
   "execution_count": null,
   "id": "33956d62-8902-4279-9e67-2dd25bcdf33d",
   "metadata": {},
   "outputs": [],
   "source": [
    "from sklearn.metrics import (\n",
    "    confusion_matrix, ConfusionMatrixDisplay,\n",
    "    accuracy_score, f1_score, fbeta_score, roc_auc_score, roc_curve\n",
    ")\n",
    "\n",
    "import matplotlib.pyplot as plt\n",
    "\n",
    "%matplotlib inline\n",
    "\n",
    "#predict class labels\n",
    "y_pred = rf_model.predict(X_test)\n",
    "\n",
    "#predict class probabilities for ROC AUC\n",
    "y_probs = rf_model.predict_proba(X_test)[:, 1]\n",
    "\n",
    "#accuracy\n",
    "accuracy = accuracy_score(y_test, y_pred)\n",
    "print(f\"Accuracy: {accuracy:.3f}\")\n",
    "\n",
    "#F1 Score\n",
    "f1 = f1_score(y_test, y_pred)\n",
    "print(f\"F1 Score: {f1:.3f}\")\n",
    "\n",
    "#F2 Score\n",
    "f2 = fbeta_score(y_test, y_pred, beta=2)\n",
    "print(f\"F2 Score: {f2:.3f}\")\n",
    "\n",
    "#ROC AUC Score\n",
    "roc = roc_auc_score(y_test, y_probs)\n",
    "print(f\"ROC AUC Score: {roc:.3f}\")\n",
    "\n",
    "#confusion matrix\n",
    "cm = confusion_matrix(y_test, y_pred)\n",
    "disp = ConfusionMatrixDisplay(confusion_matrix=cm, display_labels=rf_model.classes_)\n",
    "disp.plot(cmap='Blues')\n",
    "plt.title('Confusion Matrix')\n",
    "plt.show()"
   ]
  },
  {
   "cell_type": "markdown",
   "id": "27d293bf-aa09-49a3-89fc-24ed5b95f478",
   "metadata": {},
   "source": [
    "### Observations"
   ]
  },
  {
   "cell_type": "markdown",
   "id": "a1c35593-74be-464c-9b17-fd31926d3658",
   "metadata": {},
   "source": [
    "- Random Forest model trained on engineered features achieved marginally higher accuracy, F1 and F2 scores but had a small dip in ROC-AUC score performance compared to the equivalent model trained on non-engineered features"
   ]
  },
  {
   "cell_type": "markdown",
   "id": "c96c51a0-1c55-4ff1-b081-7fc5b4f2a63c",
   "metadata": {},
   "source": [
    "## Summary"
   ]
  },
  {
   "cell_type": "markdown",
   "id": "3e5595bd-7879-4cb4-a937-f181ac506a92",
   "metadata": {},
   "source": [
    "### Data cleansing"
   ]
  },
  {
   "cell_type": "markdown",
   "id": "21df57b7-2c7c-4bf0-9455-669966666d51",
   "metadata": {},
   "source": [
    "Data was clean and well structured:\n",
    "- Primary key was unique\n",
    "- No missing values\n",
    "- No mixed data formats in a single feature\n",
    "\n",
    "No action was taken to cleanse the data."
   ]
  },
  {
   "cell_type": "markdown",
   "id": "a6cdb5e0-e6cd-43a8-8d48-f1eee23f6ef3",
   "metadata": {},
   "source": [
    "### Exploratory Data Analysis"
   ]
  },
  {
   "cell_type": "markdown",
   "id": "d9c1b3bd-514c-4297-8e9d-5c589de83663",
   "metadata": {},
   "source": [
    "> **NOTE:** The feature `discharge_note` was omitted from modelling in this section.\n",
    "\n",
    "#### Data inspection\n",
    "\n",
    "- The dataset was fairly small, containing 200 rows.  \n",
    "- It included both categorical features and features that could be interpreted as **discrete numeric** (e.g., `age`, `length_of_stay`, `num_previous_admissions`).  \n",
    "\n",
    "#### Individual distributions\n",
    "\n",
    "- The outcome variable `readmitted_30_days` displayed a moderate class imbalance of approximately 1:2 between the positive and negative classes.  \n",
    "- Most features had a relatively small range of unique values. `age` had the most with 67 unique values, while all other features had ≤ 14 unique values.  \n",
    "- Discrete features were generally well balanced, showing only mild class imbalance.  \n",
    "- Discrete numeric features exhibited various distribution shapes — from **right-skewed** to **multimodal**.  \n",
    "\n",
    "#### Distribution across the outcome variable\n",
    "\n",
    "- No feature showed a strong or moderate correlation with the outcome variable.  \n",
    "- `age` and `num_previous_admissions` showed mild correlation with `readmitted_30_days`.  \n",
    "- Visualising feature distributions across the positive and negative classes of the outcome variable suggested that **particular value ranges** within some features might carry predictive signal (see relevant observations).  \n",
    "- New features were derived based on these insights to enhance the model’s ability to capture this signal.  \n"
   ]
  },
  {
   "cell_type": "markdown",
   "id": "b6e3a7dd-425d-4f62-a264-9008fcd28742",
   "metadata": {},
   "source": [
    "### Modelling"
   ]
  },
  {
   "cell_type": "markdown",
   "id": "06b6e489-414d-44d1-8019-b28cf9f3caa1",
   "metadata": {},
   "source": [
    "#### Benchmark modelling\n",
    "\n",
    "- Stratified sampling was used to handle the moderate class imbalance observed in the outcome variable, ensuring even representation of both classes across the train and test datasets.  \n",
    "- A test-train split of 0.2 was chosen to provide enough datapoints in the training dataset for the machine learning algorithm to learn any trends, whilst leaving sufficient datapoints in the test set to allow generalisable inferences.  \n",
    "- Random Forest was chosen as the benchmark algorithm due to its ability to model non-linear relationships and achieve reasonable baseline performance with minimal tuning.  \n",
    "- The performance of the benchmark model was poor: marginally better than random choice, but worse than the baseline accuracy.  \n",
    "- The SHAP plot identified `age`, `num_previous_admissions`, and `length_of_stay` as the three most important features — consistent with findings from the EDA when comparing these variables across outcome classes.  \n",
    "\n",
    "#### Engineered features only model\n",
    "\n",
    "- The predictive signal of the engineered features was modelled and compared to the benchmark model to evaluate whether a simplified representation of the dataset retained comparable predictive capability, and to derive insights into how specific values related to the outcome classes.  \n",
    "- The same preprocessing, test-train split, and model configuration were used between the benchmark and engineered features only models to ensure a meaningful performance comparison.  \n",
    "- The engineered features only model achieved weak overall performance, but similar to that of the benchmark model. This suggests that the limited predictive signal present in the raw features was largely captured in the engineered representation of the dataset.  "
   ]
  },
  {
   "cell_type": "markdown",
   "id": "69938ca9-71bd-4eed-93f8-f8d4193356fa",
   "metadata": {},
   "source": [
    "### Follow-up steps"
   ]
  },
  {
   "cell_type": "markdown",
   "id": "39922a69-8747-4cd1-aa18-2b45492f73a2",
   "metadata": {},
   "source": [
    "#### Enrich dataset\n",
    "\n",
    "- Due to the poor performance of both models on the dataset, I would seek to enrich the dataset to reach a baseline level of performance before considering alternative models or hyperparameter optimisation.  \n",
    "- The dataset could be enriched **vertically** (more rows) and **horizontally** (more features).  \n",
    "- 200 datapoints, whilst above the minimum recommended 10 datapoints per feature, is still a fairly small number to both train and test a model effectively, especially given the dimensionality of the dataframe.  \n",
    "- Increasing the number of datapoints could improve generalisability, reduce overfitting, and allow more robust performance evaluation via cross-validation.  \n",
    "- Enriching the dataset with additional features could also improve the predictive potential of the model. For instance, using features extracted from unstructured data (e.g., discharge notes via NLP pipelines) could enhance signal detection.  \n",
    "- Synthetic upsampling of the underrepresented class in the outcome variable using techniques such as SMOTE could allow the model to learn class boundaries more effectively, improving recall and F1-score for the minority class.\n",
    "\n",
    "#### Model comparison and optimisation\n",
    "- After a baseline level of performance is achieved, comparison against different ML algorithms such as Logistic Regression, Feedforward Neural Networks, and Support Vector Classifiers could provide insight into the best-fitting model architecture for this problem.  \n",
    "- Similarly, hyperparameter optimisation could further refine performance by tuning regularisation strength, learning rates, tree depths, or class weights depending on the model used.  \n"
   ]
  }
 ],
 "metadata": {
  "kernelspec": {
   "display_name": "Python 3 (ipykernel)",
   "language": "python",
   "name": "python3"
  },
  "language_info": {
   "codemirror_mode": {
    "name": "ipython",
    "version": 3
   },
   "file_extension": ".py",
   "mimetype": "text/x-python",
   "name": "python",
   "nbconvert_exporter": "python",
   "pygments_lexer": "ipython3",
   "version": "3.9.21"
  }
 },
 "nbformat": 4,
 "nbformat_minor": 5
}
